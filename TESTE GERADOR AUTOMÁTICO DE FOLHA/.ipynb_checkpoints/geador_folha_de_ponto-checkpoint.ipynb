{
 "cells": [
  {
   "cell_type": "code",
   "execution_count": 4,
   "id": "d53f7d34",
   "metadata": {},
   "outputs": [
    {
     "name": "stdout",
     "output_type": "stream",
     "text": [
      "01/01/2024 SEGUNDA-FEIRA\n",
      "02/01/2024 TERÇA-FEIRA\n",
      "03/01/2024 QUARTA-FEIRA\n",
      "04/01/2024 QUINTA-FEIRA\n",
      "05/01/2024 SEXTA-FEIRA\n",
      "06/01/2024 SÁBADO\n",
      "07/01/2024 DOMINGO\n",
      "08/01/2024 SEGUNDA-FEIRA\n",
      "09/01/2024 TERÇA-FEIRA\n",
      "10/01/2024 QUARTA-FEIRA\n",
      "11/01/2024 QUINTA-FEIRA\n",
      "12/01/2024 SEXTA-FEIRA\n",
      "13/01/2024 SÁBADO\n",
      "14/01/2024 DOMINGO\n",
      "15/01/2024 SEGUNDA-FEIRA\n",
      "16/01/2024 TERÇA-FEIRA\n",
      "17/01/2024 QUARTA-FEIRA\n",
      "18/01/2024 QUINTA-FEIRA\n",
      "19/01/2024 SEXTA-FEIRA\n",
      "20/01/2024 SÁBADO\n",
      "21/01/2024 DOMINGO\n",
      "22/01/2024 SEGUNDA-FEIRA\n",
      "23/01/2024 TERÇA-FEIRA\n",
      "24/01/2024 QUARTA-FEIRA\n",
      "25/01/2024 QUINTA-FEIRA\n",
      "26/01/2024 SEXTA-FEIRA\n",
      "27/01/2024 SÁBADO\n",
      "28/01/2024 DOMINGO\n",
      "29/01/2024 SEGUNDA-FEIRA\n",
      "30/01/2024 TERÇA-FEIRA\n",
      "31/01/2024 QUARTA-FEIRA\n"
     ]
    }
   ],
   "source": [
    "from datetime import datetime, timedelta\n",
    "from openpyxl import load_workbook\n",
    "\n",
    "dia_semana_dict = {'Sunday': 'DOMINGO','Monday': 'SEGUNDA-FEIRA', 'Tuesday': 'TERÇA-FEIRA', 'Wednesday': 'QUARTA-FEIRA', 'Thursday': 'QUINTA-FEIRA', 'Friday': 'SEXTA-FEIRA','Saturday': 'SÁBADO'}\n"
   ]
  },
  {
   "cell_type": "code",
   "execution_count": 39,
   "id": "c7891d85",
   "metadata": {},
   "outputs": [
    {
     "name": "stdout",
     "output_type": "stream",
     "text": [
      "Digite o mês: 2\n",
      "Digite o ano: 2024\n",
      "01/02/2024 QUINTA-FEIRA\n",
      "02/02/2024 SEXTA-FEIRA\n",
      "03/02/2024 SÁBADO SÁBADO SÁBADO\n",
      "04/02/2024 DOMINGO DOMINGO DOMINGO\n",
      "05/02/2024 SEGUNDA-FEIRA\n",
      "06/02/2024 TERÇA-FEIRA\n",
      "07/02/2024 QUARTA-FEIRA\n",
      "08/02/2024 QUINTA-FEIRA\n",
      "09/02/2024 SEXTA-FEIRA\n",
      "10/02/2024 SÁBADO SÁBADO SÁBADO\n",
      "11/02/2024 DOMINGO DOMINGO DOMINGO\n",
      "12/02/2024 SEGUNDA-FEIRA\n",
      "13/02/2024 TERÇA-FEIRA\n",
      "14/02/2024 QUARTA-FEIRA\n",
      "15/02/2024 QUINTA-FEIRA\n",
      "16/02/2024 SEXTA-FEIRA\n",
      "17/02/2024 SÁBADO SÁBADO SÁBADO\n",
      "18/02/2024 DOMINGO DOMINGO DOMINGO\n",
      "19/02/2024 SEGUNDA-FEIRA\n",
      "20/02/2024 TERÇA-FEIRA\n",
      "21/02/2024 QUARTA-FEIRA\n",
      "22/02/2024 QUINTA-FEIRA\n",
      "23/02/2024 SEXTA-FEIRA\n",
      "24/02/2024 SÁBADO SÁBADO SÁBADO\n",
      "25/02/2024 DOMINGO DOMINGO DOMINGO\n",
      "26/02/2024 SEGUNDA-FEIRA\n",
      "27/02/2024 TERÇA-FEIRA\n",
      "28/02/2024 QUARTA-FEIRA\n",
      "29/02/2024 QUINTA-FEIRA\n"
     ]
    }
   ],
   "source": [
    "qnt_dias_mes = []\n",
    "\n",
    "mes = int(input(\"Digite o mês: \"))\n",
    "ano = int(input(\"Digite o ano: \"))\n",
    "\n",
    "for m in range(1, 13):\n",
    "    if ((m) % 2 != 0 and (m) <=7) or ((m) % 2 == 0 and (m) >= 8):\n",
    "        qnt_dias_mes.append(31)\n",
    "    elif (m) == 2:\n",
    "        if (ano % 4 == 0 and ano % 100 != 0) or (ano % 400 == 0):\n",
    "            qnt_dias_mes.append(29)\n",
    "        else:\n",
    "            qnt_dias_mes.append(28)\n",
    "    else:\n",
    "        qnt_dias_mes.append(30)\n",
    "    \n",
    "n_mes = datetime(year=ano, month=mes,day=1)\n",
    "\n",
    "\n",
    "for i in range(0, qnt_dias_mes[mes-1]):\n",
    "    if dia_semana_dict[n_mes.strftime(\"%A\")] == 'DOMINGO' or dia_semana_dict[n_mes.strftime(\"%A\")] == 'SÁBADO':\n",
    "        print(f'{n_mes.strftime(\"%d/%m/%Y\")} {dia_semana_dict[n_mes.strftime(\"%A\")]} {dia_semana_dict[n_mes.strftime(\"%A\")]} {dia_semana_dict[n_mes.strftime(\"%A\")]}')\n",
    "    else:\n",
    "        print(f'{n_mes.strftime(\"%d/%m/%Y\")} {dia_semana_dict[n_mes.strftime(\"%A\")]}')\n",
    "    n_mes += timedelta(days=1)"
   ]
  },
  {
   "cell_type": "code",
   "execution_count": null,
   "id": "f2030d41",
   "metadata": {},
   "outputs": [],
   "source": []
  }
 ],
 "metadata": {
  "kernelspec": {
   "display_name": "Python 3 (ipykernel)",
   "language": "python",
   "name": "python3"
  },
  "language_info": {
   "codemirror_mode": {
    "name": "ipython",
    "version": 3
   },
   "file_extension": ".py",
   "mimetype": "text/x-python",
   "name": "python",
   "nbconvert_exporter": "python",
   "pygments_lexer": "ipython3",
   "version": "3.11.4"
  }
 },
 "nbformat": 4,
 "nbformat_minor": 5
}
