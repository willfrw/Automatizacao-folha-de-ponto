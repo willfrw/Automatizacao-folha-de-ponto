{
 "cells": [
  {
   "cell_type": "code",
   "execution_count": 1,
   "id": "fb26b922",
   "metadata": {},
   "outputs": [],
   "source": [
    "from openpyxl import Workbook, load_workbook\n",
    "\n",
    "planilha_nomes = load_workbook(\"modelo-dados-teste.xlsx\")\n",
    "\n",
    "\n",
    "aba_ativa_nomes = planilha_nomes.active\n",
    "\n",
    "\n",
    "for celula in aba_ativa_nomes[\"A\"]:\n",
    "    planilha_folha_ponto = load_workbook(\"modelo-tabela-folha-ponto-teste.xlsx\")\n",
    "    aba_ativa_folha = planilha_folha_ponto.active\n",
    "    \n",
    "    linha_nome = celula.row\n",
    "    setor = aba_ativa_nomes[f\"D{linha_nome}\"].value\n",
    "    nome = aba_ativa_nomes[f\"B{linha_nome}\"].value\n",
    "    cargo = aba_ativa_nomes[f\"C{linha_nome}\"].value\n",
    "    mat = aba_ativa_nomes[f\"A{linha_nome}\"].value\n",
    "\n",
    "    aba_ativa_folha[\"C5\"] = nome\n",
    "    aba_ativa_folha[\"C6\"] = cargo\n",
    "    aba_ativa_folha[\"G6\"] = mat\n",
    "\n",
    "    planilha_folha_ponto.save(f\"{setor}_{nome}.xlsx\")\n",
    "    \n",
    "    "
   ]
  },
  {
   "cell_type": "code",
   "execution_count": null,
   "id": "ea6104bf",
   "metadata": {},
   "outputs": [],
   "source": []
  },
  {
   "cell_type": "code",
   "execution_count": null,
   "id": "24014177",
   "metadata": {},
   "outputs": [],
   "source": []
  }
 ],
 "metadata": {
  "kernelspec": {
   "display_name": "Python 3 (ipykernel)",
   "language": "python",
   "name": "python3"
  },
  "language_info": {
   "codemirror_mode": {
    "name": "ipython",
    "version": 3
   },
   "file_extension": ".py",
   "mimetype": "text/x-python",
   "name": "python",
   "nbconvert_exporter": "python",
   "pygments_lexer": "ipython3",
   "version": "3.11.4"
  }
 },
 "nbformat": 4,
 "nbformat_minor": 5
}
