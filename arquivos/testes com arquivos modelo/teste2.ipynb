{
 "cells": [
  {
   "cell_type": "code",
   "execution_count": 1,
   "id": "fb26b922",
   "metadata": {},
   "outputs": [],
   "source": [
    "from openpyxl import Workbook, load_workbook\n",
    "\n",
    "planilha_nomes = load_workbook(\"modelo-dados-teste.xlsx\")\n",
    "\n",
    "\n",
    "aba_ativa_nomes = planilha_nomes.active\n",
    "\n",
    "\n",
    "for celula in aba_ativa_nomes[\"A\"]:\n",
    "    planilha_folha_ponto = load_workbook(\"modelo-tabela-folha-ponto-teste.xlsx\")\n",
    "    aba_ativa_folha = planilha_folha_ponto.active\n",
    "    \n",
    "    linha_nome = celula.row\n",
    "    setor = aba_ativa_nomes[f\"D{linha_nome}\"].value\n",
    "    nome = aba_ativa_nomes[f\"B{linha_nome}\"].value\n",
    "    cargo = aba_ativa_nomes[f\"C{linha_nome}\"].value\n",
    "    mat = aba_ativa_nomes[f\"A{linha_nome}\"].value\n",
    "\n",
    "    aba_ativa_folha[\"C5\"] = nome\n",
    "    aba_ativa_folha[\"C6\"] = cargo\n",
    "    aba_ativa_folha[\"G6\"] = mat\n",
    "\n",
    "    planilha_folha_ponto.save(f\"{setor}_{nome}.xlsx\")\n",
    "    \n",
    "    "
   ]
  },
  {
   "cell_type": "code",
   "execution_count": 19,
   "id": "ea6104bf",
   "metadata": {},
   "outputs": [
    {
     "ename": "SyntaxError",
     "evalue": "f-string: unmatched '(' (3185113095.py, line 12)",
     "output_type": "error",
     "traceback": [
      "\u001b[1;36m  File \u001b[1;32m\"C:\\Users\\willi\\AppData\\Local\\Temp\\ipykernel_1140\\3185113095.py\"\u001b[1;36m, line \u001b[1;32m12\u001b[0m\n\u001b[1;33m    print(f'{jan24.strftime('%d/%m/%Y')}')\u001b[0m\n\u001b[1;37m                             ^\u001b[0m\n\u001b[1;31mSyntaxError\u001b[0m\u001b[1;31m:\u001b[0m f-string: unmatched '('\n"
     ]
    }
   ],
   "source": [
    "from openpyxl import Workbook, load_workbook\n",
    "from datetime import datetime, timedelta\n",
    "\n",
    "# Planilha de dados para testes posteriormente\n",
    "\"\"\"planilha_mudar_data = load_workbook(\"teste-mudar-data.xlsx\")\n",
    "\n",
    "aba_ativa_mudar_data = planilha_mudar_data.active\n",
    "\"\"\"\n",
    "jan24 = datetime(year=2024, month=1, day=1)\n",
    "\n",
    "for i in range(0, 31):\n",
    "    print(f'{jan24.strftime('%d/%m/%Y')}')\n",
    "    daysjan = jan24 + timedelta(days=1)\n",
    "    jan24 = daysjan"
   ]
  },
  {
   "cell_type": "code",
   "execution_count": null,
   "id": "24014177",
   "metadata": {},
   "outputs": [],
   "source": []
  }
 ],
 "metadata": {
  "kernelspec": {
   "display_name": "Python 3 (ipykernel)",
   "language": "python",
   "name": "python3"
  },
  "language_info": {
   "codemirror_mode": {
    "name": "ipython",
    "version": 3
   },
   "file_extension": ".py",
   "mimetype": "text/x-python",
   "name": "python",
   "nbconvert_exporter": "python",
   "pygments_lexer": "ipython3",
   "version": "3.9.13"
  }
 },
 "nbformat": 4,
 "nbformat_minor": 5
}
